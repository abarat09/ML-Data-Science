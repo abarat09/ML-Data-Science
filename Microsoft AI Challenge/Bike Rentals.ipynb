{
 "cells": [
  {
   "cell_type": "markdown",
   "id": "dd391c74-cdda-4cdd-8b18-fc463dfa0ccd",
   "metadata": {
    "tags": []
   },
   "source": [
    "# Train using Azure Machine Learning Compute\n",
    "\n",
    " - Initialize a Workspace\n",
    " - Create an Experiment\n",
    " - Introduction to AmlCompute\n",
    " - Submit an AmlCompute script run using a persistent compute target\n",
    " - Download the fitted model from the run output artifacts\n",
    " \n",
    "### Prerequisites:\n",
    " \n",
    "If you are using an Azure Machine Learning Compute Instance, Experiment is a logical container in an Azure ML Workspace. It hosts run records which can include run metrics and output artifacts from your experiments. Please ensure azureml-core is installed on the machine running Jupyter.\n"
   ]
  },
  {
   "cell_type": "code",
   "execution_count": null,
   "id": "4ec7c878-095d-47ac-872f-8893cf7b7429",
   "metadata": {
    "tags": []
   },
   "outputs": [],
   "source": [
    "# Check core SDK version number\n",
    "import azureml.core\n",
    "\n",
    "print(\"SDK version:\", azureml.core.VERSION)"
   ]
  },
  {
   "cell_type": "markdown",
   "id": "008fbb57",
   "metadata": {},
   "source": [
    "#### Initialize Workspace"
   ]
  },
  {
   "cell_type": "code",
   "execution_count": null,
   "id": "8aa56cf8-41f3-43d3-8678-680e97688e0b",
   "metadata": {
    "tags": []
   },
   "outputs": [],
   "source": [
    "from azureml.core import Workspace\n",
    "\n",
    "# The workspace information from the previous experiment has been pre-filled for you.\n",
    "subscription_id = \"afb6ac2c-d7e2-4e20-80e7-b216c765d922\"\n",
    "resource_group = \"rg-az220\"\n",
    "workspace_name = \"Aakriti_ML\"\n",
    "\n",
    "ws = Workspace(subscription_id=subscription_id, resource_group=resource_group, workspace_name=workspace_name)\n",
    "print(ws.name, ws.resource_group, ws.location, ws.subscription_id, sep = '\\n')"
   ]
  },
  {
   "cell_type": "markdown",
   "id": "74826144",
   "metadata": {},
   "source": [
    "#### Create An Experiment \n",
    "\n",
    "- Experiment is a logical container in an Azure ML Workspace. It hosts run records which can include run metrics and output artifacts from your experiments."
   ]
  },
  {
   "cell_type": "code",
   "execution_count": null,
   "id": "68554d4b-9a65-4ee3-9fdd-61f9b7e07057",
   "metadata": {},
   "outputs": [],
   "source": [
    "from azureml.core import Experiment\n",
    "\n",
    "# The experiment name has been pre-filled for you.\n",
    "experiment_name = \"mslearn-bike-rental\"\n",
    "experiment = Experiment(workspace = ws, name = experiment_name)"
   ]
  },
  {
   "cell_type": "markdown",
   "id": "fc314acc",
   "metadata": {},
   "source": [
    "#### Introduction to AmlCompute \n",
    "\n",
    "- Azure Machine Learning Compute is managed compute infrastructure that allows the user to easily create single to multi-node compute of the appropriate VM Family. It is created within your workspace region and is a resource that can be used by other users in your workspace. It autoscales by default to the max_nodes, when a job is submitted, and executes in a containerized environment packaging the dependencies as specified by the user.\n",
    "- Since it is managed compute, job scheduling and cluster management are handled internally by Azure Machine Learning service.\n",
    "- For more information on Azure Machine Learning Compute, please read this article\n",
    "- Note: As with other Azure services, there are limits on certain resources (for eg. AmlCompute quota) associated with the Azure Machine Learning service. Please read this article on the default limits and how to request more quota.\n",
    "The training script is already created for you. Let's have a look.\n",
    "Create project directory Create a directory that will contain all the necessary code from your local machine that you will need access to on the remote resource. This includes the training script, and any additional files your training script depends on"
   ]
  },
  {
   "cell_type": "code",
   "execution_count": null,
   "id": "c95480d0-b73b-4040-b170-068aa3057ca2",
   "metadata": {},
   "outputs": [],
   "source": [
    "import os\n",
    "import shutil\n",
    "\n",
    "project_folder = os.path.join(\".\", experiment_name)\n",
    "os.makedirs(project_folder, exist_ok=True)\n",
    "shutil.copy('script.py', project_folder)"
   ]
  },
  {
   "cell_type": "markdown",
   "id": "b5c902ed",
   "metadata": {},
   "source": [
    "#### Create environment \n",
    "- Create Docker based environment with scikit-learn installed."
   ]
  },
  {
   "cell_type": "code",
   "execution_count": null,
   "id": "74769134-9de2-49d4-b59f-bd3edc3adb8f",
   "metadata": {},
   "outputs": [],
   "source": [
    "import hashlib\n",
    "from azureml.core import Environment\n",
    "from azureml.core.runconfig import DockerConfiguration\n",
    "from azureml.core.conda_dependencies import CondaDependencies\n",
    "\n",
    "myenv = Environment.get(ws, 'AzureML-AutoML', '114')\n",
    "\n",
    "# Enable Docker\n",
    "docker_config = DockerConfiguration(use_docker=True)"
   ]
  },
  {
   "cell_type": "code",
   "execution_count": null,
   "id": "e4d02807-7db3-488e-a598-5b73b8e54100",
   "metadata": {},
   "outputs": [],
   "source": [
    "from azureml.core.compute import ComputeTarget, AmlCompute\n",
    "from azureml.core.compute_target import ComputeTargetException\n",
    "\n",
    "# Choose a name for your CPU cluster\n",
    "cluster_name = \"Aakriti-MLcompute\"\n",
    "\n",
    "# Verify that cluster does not exist already\n",
    "try:\n",
    "    cluster = ComputeTarget(workspace=ws, name=cluster_name)\n",
    "    print('Found existing cluster, use it.')\n",
    "except ComputeTargetException:\n",
    "    compute_config = AmlCompute.provisioning_configuration(vm_size='STANDARD_DS11_V2',\n",
    "                                                           max_nodes=4)\n",
    "    cluster = ComputeTarget.create(ws, cluster_name, compute_config)\n",
    "\n",
    "cluster.wait_for_completion(show_output=True)"
   ]
  },
  {
   "cell_type": "markdown",
   "id": "90d99633",
   "metadata": {},
   "source": [
    "#### Provision as a persistent compute target (Basic) \n",
    "\n",
    "You can provision a persistent AmlCompute resource by simply defining two parameters thanks to smart defaults. By default it autoscales from 0 nodes and provisions dedicated VMs to run your job in a container. This is useful when you want to continously re-use the same target, debug it between jobs or simply share the resource with other users of your workspace.\n",
    "\n",
    "vm_size: VM family of the nodes provisioned by AmlCompute. Simply choose from the supported_vmsizes() above max_nodes: Maximum nodes to autoscale to while running a job on AmlCompute"
   ]
  },
  {
   "cell_type": "code",
   "execution_count": null,
   "id": "2b204bbe-7280-43d0-bdd1-dec648f6e341",
   "metadata": {},
   "outputs": [],
   "source": [
    "import uuid\n",
    "from azureml.core import ScriptRunConfig\n",
    "from azureml._restclient.models import RunTypeV2\n",
    "from azureml._restclient.models.create_run_dto import CreateRunDto\n",
    "from azureml._restclient.run_client import RunClient\n",
    "\n",
    "codegen_runid = str(uuid.uuid4())\n",
    "client = RunClient(experiment.workspace.service_context, experiment.name, codegen_runid, experiment_id=experiment.id)\n",
    "\n",
    "# To test with new training / validation datasets, replace the default dataset id(s) taken from parent run below\n",
    "training_dataset_id = '91196f95-8433-4381-8568-1688a8905a5c'\n",
    "dataset_arguments = ['--training_dataset_id', training_dataset_id]\n",
    "\n",
    "create_run_dto = CreateRunDto(run_id=codegen_runid,\n",
    "                              parent_run_id='AutoML_84707285-f304-41bd-8de6-2078576ef649_0',\n",
    "                              description='AutoML Codegen Script Run',\n",
    "                              target=cluster_name,\n",
    "                              run_type_v2=RunTypeV2(\n",
    "                                  orchestrator='Execution', traits=['automl-codegen']))\n",
    "src = ScriptRunConfig(source_directory=project_folder, \n",
    "                      script='script.py', \n",
    "                      arguments=dataset_arguments, \n",
    "                      compute_target=cluster, \n",
    "                      environment=myenv,\n",
    "                      docker_runtime_config=docker_config)\n",
    "run_dto = client.create_run(run_id=codegen_runid, create_run_dto=create_run_dto)\n",
    " \n",
    "run = experiment.submit(config=src, run_id=codegen_runid)\n",
    "run"
   ]
  },
  {
   "cell_type": "markdown",
   "id": "4ff4609a",
   "metadata": {},
   "source": [
    "#### Note: if you need to cancel a run, you can follow these instructions."
   ]
  },
  {
   "cell_type": "code",
   "execution_count": null,
   "id": "515f2f0a-826b-433c-919d-1e802a3aa149",
   "metadata": {},
   "outputs": [],
   "source": [
    "%%time\n",
    "# Shows output of the run on stdout.\n",
    "run.wait_for_completion(show_output=True)"
   ]
  },
  {
   "cell_type": "code",
   "execution_count": null,
   "id": "2c55cc30-5ef5-424d-8d25-9e379c71eda1",
   "metadata": {},
   "outputs": [],
   "source": [
    "run.get_metrics()"
   ]
  },
  {
   "cell_type": "markdown",
   "id": "143e10da-028b-411b-a1df-5df5cbeb7c46",
   "metadata": {},
   "source": [
    "#### Download Fitted Model"
   ]
  },
  {
   "cell_type": "code",
   "execution_count": null,
   "id": "bec036c1-4cc4-4eb6-9b6b-3835a3860ac7",
   "metadata": {},
   "outputs": [],
   "source": [
    "import joblib\n",
    "\n",
    "# Load the fitted model from the script run.\n",
    "\n",
    "# Note that if training dependencies are not installed on the machine\n",
    "# this notebook is being run from, this step can fail.\n",
    "try:\n",
    "    run.download_file(\"outputs/model.pkl\", \"model.pkl\")\n",
    "    model = joblib.load(\"model.pkl\")\n",
    "except ImportError:\n",
    "    print('Required dependencies are missing; please run pip install azureml-automl-runtime.')\n",
    "    raise"
   ]
  },
  {
   "cell_type": "markdown",
   "id": "a543df8f-dad8-4d59-8f76-79c93e65a588",
   "metadata": {},
   "source": [
    "#### You can now inference using this model.\n",
    "\n",
    "- For classification/regression, call model.predict()\n",
    "- For forecasting, call model.forecast()"
   ]
  }
 ],
 "metadata": {
  "kernelspec": {
   "display_name": "Python 3 (ipykernel)",
   "language": "python",
   "name": "python3"
  },
  "language_info": {
   "codemirror_mode": {
    "name": "ipython",
    "version": 3
   },
   "file_extension": ".py",
   "mimetype": "text/x-python",
   "name": "python",
   "nbconvert_exporter": "python",
   "pygments_lexer": "ipython3",
   "version": "3.9.7"
  }
 },
 "nbformat": 4,
 "nbformat_minor": 5
}
